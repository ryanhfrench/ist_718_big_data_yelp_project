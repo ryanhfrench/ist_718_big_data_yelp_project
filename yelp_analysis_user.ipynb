{
 "cells": [
  {
   "cell_type": "markdown",
   "metadata": {},
   "source": [
    "<img src=\"yelp_logo.png\" width=\"400\">"
   ]
  },
  {
   "cell_type": "markdown",
   "metadata": {},
   "source": [
    "# Analyzing Yelp Reviews"
   ]
  },
  {
   "cell_type": "markdown",
   "metadata": {},
   "source": [
    "### Import libraries"
   ]
  },
  {
   "cell_type": "code",
   "execution_count": 117,
   "metadata": {},
   "outputs": [
    {
     "ename": "ImportError",
     "evalue": "cannot import name 'RegressionEvaluatorv' from 'pyspark.ml.evaluation' (//anaconda3/lib/python3.7/site-packages/pyspark/ml/evaluation.py)",
     "output_type": "error",
     "traceback": [
      "\u001b[0;31m---------------------------------------------------------------------------\u001b[0m",
      "\u001b[0;31mImportError\u001b[0m                               Traceback (most recent call last)",
      "\u001b[0;32m<ipython-input-117-6ded9a84e5a0>\u001b[0m in \u001b[0;36m<module>\u001b[0;34m\u001b[0m\n\u001b[1;32m     15\u001b[0m \u001b[0;32mfrom\u001b[0m \u001b[0mpyspark\u001b[0m\u001b[0;34m.\u001b[0m\u001b[0mml\u001b[0m \u001b[0;32mimport\u001b[0m \u001b[0mclassification\u001b[0m\u001b[0;34m\u001b[0m\u001b[0;34m\u001b[0m\u001b[0m\n\u001b[1;32m     16\u001b[0m \u001b[0;32mfrom\u001b[0m \u001b[0mpyspark\u001b[0m\u001b[0;34m.\u001b[0m\u001b[0mml\u001b[0m \u001b[0;32mimport\u001b[0m \u001b[0mPipeline\u001b[0m\u001b[0;34m\u001b[0m\u001b[0;34m\u001b[0m\u001b[0m\n\u001b[0;32m---> 17\u001b[0;31m \u001b[0;32mfrom\u001b[0m \u001b[0mpyspark\u001b[0m\u001b[0;34m.\u001b[0m\u001b[0mml\u001b[0m\u001b[0;34m.\u001b[0m\u001b[0mevaluation\u001b[0m \u001b[0;32mimport\u001b[0m \u001b[0mBinaryClassificationEvaluator\u001b[0m\u001b[0;34m,\u001b[0m\u001b[0;31m \u001b[0m\u001b[0;31m\\\u001b[0m\u001b[0;34m\u001b[0m\u001b[0;34m\u001b[0m\u001b[0m\n\u001b[0m\u001b[1;32m     18\u001b[0m     \u001b[0mMulticlassClassificationEvaluator\u001b[0m\u001b[0;34m,\u001b[0m\u001b[0;31m \u001b[0m\u001b[0;31m\\\u001b[0m\u001b[0;34m\u001b[0m\u001b[0;34m\u001b[0m\u001b[0m\n\u001b[1;32m     19\u001b[0m     \u001b[0mRegressionEvaluatorv\u001b[0m\u001b[0;34m\u001b[0m\u001b[0;34m\u001b[0m\u001b[0m\n",
      "\u001b[0;31mImportError\u001b[0m: cannot import name 'RegressionEvaluatorv' from 'pyspark.ml.evaluation' (//anaconda3/lib/python3.7/site-packages/pyspark/ml/evaluation.py)"
     ]
    }
   ],
   "source": [
    "from pyspark.sql import SparkSession\n",
    "import pyspark.sql.functions as fn\n",
    "import pyspark\n",
    "from pyspark import sql\n",
    "import re\n",
    "import pandas as pd\n",
    "import numpy as np\n",
    "from imblearn.over_sampling import SMOTE\n",
    "from sklearn.model_selection import train_test_split\n",
    "from sklearn.linear_model import LogisticRegression\n",
    "from sklearn import metrics\n",
    "import statsmodels.api as sm\n",
    "from pyspark.sql.functions import udf\n",
    "from pyspark.ml import feature\n",
    "from pyspark.ml import classification\n",
    "from pyspark.ml import Pipeline\n"
   ]
  },
  {
   "cell_type": "markdown",
   "metadata": {},
   "source": [
    "### Create Spark session"
   ]
  },
  {
   "cell_type": "code",
   "execution_count": 2,
   "metadata": {},
   "outputs": [],
   "source": [
    "spark = SparkSession.builder.getOrCreate()\n",
    "sc = spark.sparkContext"
   ]
  },
  {
   "cell_type": "markdown",
   "metadata": {},
   "source": [
    "### Load Data"
   ]
  },
  {
   "cell_type": "markdown",
   "metadata": {},
   "source": [
    "#### Dataset available at: https://www.kaggle.com/yelp-dataset/yelp-dataset"
   ]
  },
  {
   "cell_type": "code",
   "execution_count": 40,
   "metadata": {
    "slideshow": {
     "slide_type": "fragment"
    }
   },
   "outputs": [],
   "source": [
    "path_business = '/Users/yao/Desktop/IST718/project/ist_718_big_data_yelp_project/yelp-dataset/yelp_academic_dataset_business.json'\n",
    "#path_checkin = '/Users/yao/Desktop/IST718/project/ist_718_big_data_yelp_project/yelp-dataset/yelp_academic_dataset_checkin.json'\n",
    "path_review = '/Users/yao/Desktop/IST718/project/ist_718_big_data_yelp_project/yelp-dataset/yelp_academic_dataset_review.json'\n",
    "#path_tip = '/Users/yao/Desktop/IST718/project/ist_718_big_data_yelp_project/yelp-dataset/yelp_academic_dataset_tip.json'\n",
    "#path_user = '/Users/yao/Desktop/IST718/project/ist_718_big_data_yelp_project/yelp-dataset/yelp_academic_dataset_user.json'\n",
    "business_df = spark.read.json(path_business)\n",
    "#checkin_df = spark.read.json(path_checkin)\n",
    "review_df = spark.read.json(path_review)\n",
    "#tip_df = spark.read.json(path_tip)\n",
    "#user_df = spark.read.json(path_user)\n"
   ]
  },
  {
   "cell_type": "code",
   "execution_count": 4,
   "metadata": {},
   "outputs": [
    {
     "data": {
      "text/html": [
       "<div>\n",
       "<style scoped>\n",
       "    .dataframe tbody tr th:only-of-type {\n",
       "        vertical-align: middle;\n",
       "    }\n",
       "\n",
       "    .dataframe tbody tr th {\n",
       "        vertical-align: top;\n",
       "    }\n",
       "\n",
       "    .dataframe thead th {\n",
       "        text-align: right;\n",
       "    }\n",
       "</style>\n",
       "<table border=\"1\" class=\"dataframe\">\n",
       "  <thead>\n",
       "    <tr style=\"text-align: right;\">\n",
       "      <th></th>\n",
       "      <th>address</th>\n",
       "      <th>attributes</th>\n",
       "      <th>business_id</th>\n",
       "      <th>categories</th>\n",
       "      <th>city</th>\n",
       "      <th>hours</th>\n",
       "      <th>is_open</th>\n",
       "      <th>latitude</th>\n",
       "      <th>longitude</th>\n",
       "      <th>name</th>\n",
       "      <th>postal_code</th>\n",
       "      <th>review_count</th>\n",
       "      <th>stars</th>\n",
       "      <th>state</th>\n",
       "    </tr>\n",
       "  </thead>\n",
       "  <tbody>\n",
       "    <tr>\n",
       "      <th>0</th>\n",
       "      <td>2818 E Camino Acequia Drive</td>\n",
       "      <td>(None, None, None, None, None, None, None, Non...</td>\n",
       "      <td>1SWheh84yJXfytovILXOAQ</td>\n",
       "      <td>Golf, Active Life</td>\n",
       "      <td>Phoenix</td>\n",
       "      <td>None</td>\n",
       "      <td>0</td>\n",
       "      <td>33.522143</td>\n",
       "      <td>-112.018481</td>\n",
       "      <td>Arizona Biltmore Golf Club</td>\n",
       "      <td>85016</td>\n",
       "      <td>5</td>\n",
       "      <td>3.0</td>\n",
       "      <td>AZ</td>\n",
       "    </tr>\n",
       "    <tr>\n",
       "      <th>1</th>\n",
       "      <td>30 Eglinton Avenue W</td>\n",
       "      <td>(None, None, u'full_bar', {'romantic': False, ...</td>\n",
       "      <td>QXAEGFB4oINsVuTFxEYKFQ</td>\n",
       "      <td>Specialty Food, Restaurants, Dim Sum, Imported...</td>\n",
       "      <td>Mississauga</td>\n",
       "      <td>(9:0-1:0, 9:0-0:0, 9:0-1:0, 9:0-0:0, 9:0-0:0, ...</td>\n",
       "      <td>1</td>\n",
       "      <td>43.605499</td>\n",
       "      <td>-79.652289</td>\n",
       "      <td>Emerald Chinese Restaurant</td>\n",
       "      <td>L5R 3E7</td>\n",
       "      <td>128</td>\n",
       "      <td>2.5</td>\n",
       "      <td>ON</td>\n",
       "    </tr>\n",
       "    <tr>\n",
       "      <th>2</th>\n",
       "      <td>10110 Johnston Rd, Ste 15</td>\n",
       "      <td>(None, None, u'beer_and_wine', {'romantic': Fa...</td>\n",
       "      <td>gnKjwL_1w79qoiV3IC_xQQ</td>\n",
       "      <td>Sushi Bars, Restaurants, Japanese</td>\n",
       "      <td>Charlotte</td>\n",
       "      <td>(17:30-22:0, 17:30-21:30, 17:30-22:0, 17:30-21...</td>\n",
       "      <td>1</td>\n",
       "      <td>35.092564</td>\n",
       "      <td>-80.859132</td>\n",
       "      <td>Musashi Japanese Restaurant</td>\n",
       "      <td>28210</td>\n",
       "      <td>170</td>\n",
       "      <td>4.0</td>\n",
       "      <td>NC</td>\n",
       "    </tr>\n",
       "    <tr>\n",
       "      <th>3</th>\n",
       "      <td>15655 W Roosevelt St, Ste 237</td>\n",
       "      <td>None</td>\n",
       "      <td>xvX2CttrVhyG2z1dFg_0xw</td>\n",
       "      <td>Insurance, Financial Services</td>\n",
       "      <td>Goodyear</td>\n",
       "      <td>(8:0-17:0, 8:0-17:0, None, None, 8:0-17:0, 8:0...</td>\n",
       "      <td>1</td>\n",
       "      <td>33.455613</td>\n",
       "      <td>-112.395596</td>\n",
       "      <td>Farmers Insurance - Paul Lorenz</td>\n",
       "      <td>85338</td>\n",
       "      <td>3</td>\n",
       "      <td>5.0</td>\n",
       "      <td>AZ</td>\n",
       "    </tr>\n",
       "    <tr>\n",
       "      <th>4</th>\n",
       "      <td>4209 Stuart Andrew Blvd, Ste F</td>\n",
       "      <td>(None, None, None, None, None, None, None, Non...</td>\n",
       "      <td>HhyxOkGAM07SRYtlQ4wMFQ</td>\n",
       "      <td>Plumbing, Shopping, Local Services, Home Servi...</td>\n",
       "      <td>Charlotte</td>\n",
       "      <td>(7:0-23:0, 7:0-23:0, 7:0-23:0, 7:0-23:0, 7:0-2...</td>\n",
       "      <td>1</td>\n",
       "      <td>35.190012</td>\n",
       "      <td>-80.887223</td>\n",
       "      <td>Queen City Plumbing</td>\n",
       "      <td>28217</td>\n",
       "      <td>4</td>\n",
       "      <td>4.0</td>\n",
       "      <td>NC</td>\n",
       "    </tr>\n",
       "  </tbody>\n",
       "</table>\n",
       "</div>"
      ],
      "text/plain": [
       "                          address  \\\n",
       "0     2818 E Camino Acequia Drive   \n",
       "1            30 Eglinton Avenue W   \n",
       "2       10110 Johnston Rd, Ste 15   \n",
       "3   15655 W Roosevelt St, Ste 237   \n",
       "4  4209 Stuart Andrew Blvd, Ste F   \n",
       "\n",
       "                                          attributes             business_id  \\\n",
       "0  (None, None, None, None, None, None, None, Non...  1SWheh84yJXfytovILXOAQ   \n",
       "1  (None, None, u'full_bar', {'romantic': False, ...  QXAEGFB4oINsVuTFxEYKFQ   \n",
       "2  (None, None, u'beer_and_wine', {'romantic': Fa...  gnKjwL_1w79qoiV3IC_xQQ   \n",
       "3                                               None  xvX2CttrVhyG2z1dFg_0xw   \n",
       "4  (None, None, None, None, None, None, None, Non...  HhyxOkGAM07SRYtlQ4wMFQ   \n",
       "\n",
       "                                          categories         city  \\\n",
       "0                                  Golf, Active Life      Phoenix   \n",
       "1  Specialty Food, Restaurants, Dim Sum, Imported...  Mississauga   \n",
       "2                  Sushi Bars, Restaurants, Japanese    Charlotte   \n",
       "3                      Insurance, Financial Services     Goodyear   \n",
       "4  Plumbing, Shopping, Local Services, Home Servi...    Charlotte   \n",
       "\n",
       "                                               hours  is_open   latitude  \\\n",
       "0                                               None        0  33.522143   \n",
       "1  (9:0-1:0, 9:0-0:0, 9:0-1:0, 9:0-0:0, 9:0-0:0, ...        1  43.605499   \n",
       "2  (17:30-22:0, 17:30-21:30, 17:30-22:0, 17:30-21...        1  35.092564   \n",
       "3  (8:0-17:0, 8:0-17:0, None, None, 8:0-17:0, 8:0...        1  33.455613   \n",
       "4  (7:0-23:0, 7:0-23:0, 7:0-23:0, 7:0-23:0, 7:0-2...        1  35.190012   \n",
       "\n",
       "    longitude                             name postal_code  review_count  \\\n",
       "0 -112.018481       Arizona Biltmore Golf Club       85016             5   \n",
       "1  -79.652289       Emerald Chinese Restaurant     L5R 3E7           128   \n",
       "2  -80.859132      Musashi Japanese Restaurant       28210           170   \n",
       "3 -112.395596  Farmers Insurance - Paul Lorenz       85338             3   \n",
       "4  -80.887223              Queen City Plumbing       28217             4   \n",
       "\n",
       "   stars state  \n",
       "0    3.0    AZ  \n",
       "1    2.5    ON  \n",
       "2    4.0    NC  \n",
       "3    5.0    AZ  \n",
       "4    4.0    NC  "
      ]
     },
     "execution_count": 4,
     "metadata": {},
     "output_type": "execute_result"
    }
   ],
   "source": [
    "#business_df.count()\n",
    "#review_df.count()\n",
    "#business_df.toPandas().head(5)\n",
    "#user_df.count()\n",
    "business_df.toPandas().head(5)\n",
    "\n"
   ]
  },
  {
   "cell_type": "code",
   "execution_count": 42,
   "metadata": {},
   "outputs": [
    {
     "name": "stdout",
     "output_type": "stream",
     "text": [
      "root\n",
      " |-- address: string (nullable = true)\n",
      " |-- attributes: struct (nullable = true)\n",
      " |    |-- AcceptsInsurance: string (nullable = true)\n",
      " |    |-- AgesAllowed: string (nullable = true)\n",
      " |    |-- Alcohol: string (nullable = true)\n",
      " |    |-- Ambience: string (nullable = true)\n",
      " |    |-- BYOB: string (nullable = true)\n",
      " |    |-- BYOBCorkage: string (nullable = true)\n",
      " |    |-- BestNights: string (nullable = true)\n",
      " |    |-- BikeParking: string (nullable = true)\n",
      " |    |-- BusinessAcceptsBitcoin: string (nullable = true)\n",
      " |    |-- BusinessAcceptsCreditCards: string (nullable = true)\n",
      " |    |-- BusinessParking: string (nullable = true)\n",
      " |    |-- ByAppointmentOnly: string (nullable = true)\n",
      " |    |-- Caters: string (nullable = true)\n",
      " |    |-- CoatCheck: string (nullable = true)\n",
      " |    |-- Corkage: string (nullable = true)\n",
      " |    |-- DietaryRestrictions: string (nullable = true)\n",
      " |    |-- DogsAllowed: string (nullable = true)\n",
      " |    |-- DriveThru: string (nullable = true)\n",
      " |    |-- GoodForDancing: string (nullable = true)\n",
      " |    |-- GoodForKids: string (nullable = true)\n",
      " |    |-- GoodForMeal: string (nullable = true)\n",
      " |    |-- HairSpecializesIn: string (nullable = true)\n",
      " |    |-- HappyHour: string (nullable = true)\n",
      " |    |-- HasTV: string (nullable = true)\n",
      " |    |-- Music: string (nullable = true)\n",
      " |    |-- NoiseLevel: string (nullable = true)\n",
      " |    |-- Open24Hours: string (nullable = true)\n",
      " |    |-- OutdoorSeating: string (nullable = true)\n",
      " |    |-- RestaurantsAttire: string (nullable = true)\n",
      " |    |-- RestaurantsCounterService: string (nullable = true)\n",
      " |    |-- RestaurantsDelivery: string (nullable = true)\n",
      " |    |-- RestaurantsGoodForGroups: string (nullable = true)\n",
      " |    |-- RestaurantsPriceRange2: string (nullable = true)\n",
      " |    |-- RestaurantsReservations: string (nullable = true)\n",
      " |    |-- RestaurantsTableService: string (nullable = true)\n",
      " |    |-- RestaurantsTakeOut: string (nullable = true)\n",
      " |    |-- Smoking: string (nullable = true)\n",
      " |    |-- WheelchairAccessible: string (nullable = true)\n",
      " |    |-- WiFi: string (nullable = true)\n",
      " |-- business_id: string (nullable = true)\n",
      " |-- categories: string (nullable = true)\n",
      " |-- city: string (nullable = true)\n",
      " |-- hours: struct (nullable = true)\n",
      " |    |-- Friday: string (nullable = true)\n",
      " |    |-- Monday: string (nullable = true)\n",
      " |    |-- Saturday: string (nullable = true)\n",
      " |    |-- Sunday: string (nullable = true)\n",
      " |    |-- Thursday: string (nullable = true)\n",
      " |    |-- Tuesday: string (nullable = true)\n",
      " |    |-- Wednesday: string (nullable = true)\n",
      " |-- is_open: long (nullable = true)\n",
      " |-- latitude: double (nullable = true)\n",
      " |-- longitude: double (nullable = true)\n",
      " |-- name: string (nullable = true)\n",
      " |-- postal_code: string (nullable = true)\n",
      " |-- review_count: long (nullable = true)\n",
      " |-- stars: double (nullable = true)\n",
      " |-- state: string (nullable = true)\n",
      " |-- Fri: string (nullable = true)\n",
      " |-- Mon: string (nullable = true)\n",
      " |-- Sat: string (nullable = true)\n",
      " |-- Sun: string (nullable = true)\n",
      " |-- Thu: string (nullable = true)\n",
      " |-- Tue: string (nullable = true)\n",
      " |-- Wed: string (nullable = true)\n",
      "\n"
     ]
    }
   ],
   "source": [
    "# calculate the opening hour of each observation\n",
    "# split the hour column \n",
    "\n",
    "#business_df.select(fn.col('hours')[0].alias('Fri')).head(5)\n",
    "business_df = business_df.withColumn(\"Fri\", business_df['hours.Friday']).withColumn(\"Mon\", business_df['hours.Monday']).withColumn(\"Sat\", business_df['hours.Saturday']).withColumn(\"Sun\", business_df['hours.Sunday']).withColumn(\"Thu\", business_df['hours.Thursday']).withColumn(\"Tue\", business_df['hours.Tuesday']).withColumn(\"Wed\", business_df['hours.Wednesday'])\n",
    "business_df.printSchema()\n",
    "\n",
    "#calculate duration by subtracting\n"
   ]
  },
  {
   "cell_type": "code",
   "execution_count": 74,
   "metadata": {},
   "outputs": [
    {
     "name": "stdout",
     "output_type": "stream",
     "text": [
      "+--------------------+----+----+----+----+----+----+----+\n",
      "|         business_id| Mon| Tue| Wed| Thu| Fri| Sat| Sun|\n",
      "+--------------------+----+----+----+----+----+----+----+\n",
      "|1SWheh84yJXfytovI...|   0|   0|   0|   0|   0|   0|   0|\n",
      "|QXAEGFB4oINsVuTFx...|15.0|15.0|15.0|15.0|16.0|16.0|15.0|\n",
      "|gnKjwL_1w79qoiV3I...| 4.0|   0| 4.0| 4.0| 4.5| 4.5| 3.5|\n",
      "|xvX2CttrVhyG2z1dF...| 9.0| 9.0| 9.0| 9.0| 9.0|   0|   0|\n",
      "|HhyxOkGAM07SRYtlQ...|16.0|16.0|16.0|16.0|16.0|16.0|16.0|\n",
      "+--------------------+----+----+----+----+----+----+----+\n",
      "only showing top 5 rows\n",
      "\n"
     ]
    }
   ],
   "source": [
    "#select a new dataframe to calculate the openning time \n",
    "business_date = business_df.select('business_id', 'Mon','Tue','Wed','Thu','Fri','Sat','Sun')\n",
    "business_date.toPandas().head(5)\n",
    "\n",
    "# user difine funtion, caculate how many hour is opening every day\n",
    "@udf\n",
    "def diff_time(time):\n",
    "    if time is None:\n",
    "        return 0\n",
    "    else:\n",
    "        times = time.split('-')\n",
    "        time1 = list(map(lambda x : int(x), times[0].split(':')))\n",
    "        time2 = list(map(lambda x : int(x), times[1].split(':')))\n",
    "        if time2[0] < time1[0]:\n",
    "            diff = (24+time2[0]-time1[0])+((time2[1]/60)-(time1[1]/60))\n",
    "            return diff\n",
    "        else:\n",
    "            diff = (time2[0]-time1[0])+((time2[1]/60)-(time1[1]/60))\n",
    "            return diff\n",
    "business_date = business_date.withColumn('Mon', diff_time('Mon'))\n",
    "business_date = business_date.withColumn('Tue', diff_time('Tue'))\n",
    "business_date = business_date.withColumn('Wed', diff_time('Wed'))\n",
    "business_date = business_date.withColumn('Thu', diff_time('Thu'))\n",
    "business_date = business_date.withColumn('Fri', diff_time('Fri'))\n",
    "business_date = business_date.withColumn('Sat', diff_time('Sat'))\n",
    "business_date = business_date.withColumn('Sun', diff_time('Sun'))\n",
    "\n",
    "business_date.show(5)\n",
    "        \n",
    "         "
   ]
  },
  {
   "cell_type": "code",
   "execution_count": 75,
   "metadata": {},
   "outputs": [
    {
     "name": "stdout",
     "output_type": "stream",
     "text": [
      "+--------------------+-------+------------+-----------+\n",
      "|         business_id|is_open|review_count|       city|\n",
      "+--------------------+-------+------------+-----------+\n",
      "|1SWheh84yJXfytovI...|      0|           5|    Phoenix|\n",
      "|QXAEGFB4oINsVuTFx...|      1|         128|Mississauga|\n",
      "|gnKjwL_1w79qoiV3I...|      1|         170|  Charlotte|\n",
      "|xvX2CttrVhyG2z1dF...|      1|           3|   Goodyear|\n",
      "|HhyxOkGAM07SRYtlQ...|      1|           4|  Charlotte|\n",
      "+--------------------+-------+------------+-----------+\n",
      "only showing top 5 rows\n",
      "\n"
     ]
    }
   ],
   "source": [
    "#select helpful columns which could help predict star \n",
    "business_df.toPandas().head(5)\n",
    "#business_df.printSchema()\n",
    "new_business = business_df.select('business_id', 'is_open', 'review_count','city')\n",
    "new_business.show(5)\n"
   ]
  },
  {
   "cell_type": "markdown",
   "metadata": {},
   "source": [
    "# REMEMBER TO REMOVE THIS, THIS SAMPLES ONLY 1/1000 OF THE DATA!\n"
   ]
  },
  {
   "cell_type": "code",
   "execution_count": 76,
   "metadata": {},
   "outputs": [],
   "source": [
    "\n",
    "#business_df = business_df.sample(False, 0.001, seed = 123)\n",
    "#checkin_df = checkin_df.sample(False, 0.001, seed = 123)\n",
    "review_df = review_df.sample(False, 0.005, seed = 123)\n",
    "#tip_df = tip_df.sample(False, 0.001, seed = 123)\n",
    "#user_df = user_df.sample(False, 0.001, seed = 123)\n",
    "\n"
   ]
  },
  {
   "cell_type": "markdown",
   "metadata": {},
   "source": [
    "### Check schema"
   ]
  },
  {
   "cell_type": "code",
   "execution_count": 33,
   "metadata": {},
   "outputs": [
    {
     "name": "stdout",
     "output_type": "stream",
     "text": [
      "root\n",
      " |-- business_id: string (nullable = true)\n",
      " |-- cool: long (nullable = true)\n",
      " |-- date: string (nullable = true)\n",
      " |-- funny: long (nullable = true)\n",
      " |-- review_id: string (nullable = true)\n",
      " |-- stars: double (nullable = true)\n",
      " |-- text: string (nullable = true)\n",
      " |-- useful: long (nullable = true)\n",
      " |-- user_id: string (nullable = true)\n",
      "\n"
     ]
    },
    {
     "data": {
      "text/html": [
       "<div>\n",
       "<style scoped>\n",
       "    .dataframe tbody tr th:only-of-type {\n",
       "        vertical-align: middle;\n",
       "    }\n",
       "\n",
       "    .dataframe tbody tr th {\n",
       "        vertical-align: top;\n",
       "    }\n",
       "\n",
       "    .dataframe thead th {\n",
       "        text-align: right;\n",
       "    }\n",
       "</style>\n",
       "<table border=\"1\" class=\"dataframe\">\n",
       "  <thead>\n",
       "    <tr style=\"text-align: right;\">\n",
       "      <th></th>\n",
       "      <th>business_id</th>\n",
       "      <th>cool</th>\n",
       "      <th>date</th>\n",
       "      <th>funny</th>\n",
       "      <th>review_id</th>\n",
       "      <th>stars</th>\n",
       "      <th>text</th>\n",
       "      <th>useful</th>\n",
       "      <th>user_id</th>\n",
       "    </tr>\n",
       "  </thead>\n",
       "  <tbody>\n",
       "    <tr>\n",
       "      <th>0</th>\n",
       "      <td>YSUcHqlKMPHHJ_cTrqtNrA</td>\n",
       "      <td>0</td>\n",
       "      <td>2017-12-29 13:55:19</td>\n",
       "      <td>0</td>\n",
       "      <td>E6B-2U2sGG3xgmnNWZAEew</td>\n",
       "      <td>1.0</td>\n",
       "      <td>Came here on a Thursday night at 6:30 p.m. My ...</td>\n",
       "      <td>0</td>\n",
       "      <td>DbccYu3OppWKl21OanZnTg</td>\n",
       "    </tr>\n",
       "    <tr>\n",
       "      <th>1</th>\n",
       "      <td>faPVqws-x-5k2CQKDNtHxw</td>\n",
       "      <td>0</td>\n",
       "      <td>2018-08-04 20:22:15</td>\n",
       "      <td>0</td>\n",
       "      <td>w1I8U4cJ4QGaXA98ImNrbA</td>\n",
       "      <td>5.0</td>\n",
       "      <td>Service was amazing, Christina was extremely t...</td>\n",
       "      <td>0</td>\n",
       "      <td>rJNdeta-dYO2YcJ3u5JxnA</td>\n",
       "    </tr>\n",
       "    <tr>\n",
       "      <th>2</th>\n",
       "      <td>Wxxvi3LZbHNIDwJ-ZimtnA</td>\n",
       "      <td>2</td>\n",
       "      <td>2011-07-28 09:06:59</td>\n",
       "      <td>4</td>\n",
       "      <td>Sft1a3j3Hst44CG9gbww0Q</td>\n",
       "      <td>1.0</td>\n",
       "      <td>I am so blown away by this sophisticated &amp; bea...</td>\n",
       "      <td>8</td>\n",
       "      <td>FBxhaS2bPmxwT3I8r3CmkQ</td>\n",
       "    </tr>\n",
       "    <tr>\n",
       "      <th>3</th>\n",
       "      <td>XqJG7Ux_mMfMJnyG2Q4m2Q</td>\n",
       "      <td>0</td>\n",
       "      <td>2018-08-04 20:49:20</td>\n",
       "      <td>0</td>\n",
       "      <td>sMh-VUwO64K-VvKEOtrZiw</td>\n",
       "      <td>5.0</td>\n",
       "      <td>What an incredible experience this was. There ...</td>\n",
       "      <td>0</td>\n",
       "      <td>zsGH_1XyUxuP5O34WL6eLg</td>\n",
       "    </tr>\n",
       "    <tr>\n",
       "      <th>4</th>\n",
       "      <td>pJQSdbrtQQVstMUUIICSsA</td>\n",
       "      <td>0</td>\n",
       "      <td>2011-01-09 02:59:52</td>\n",
       "      <td>0</td>\n",
       "      <td>1ue9DOGcYUPXU-NlJLLW7w</td>\n",
       "      <td>3.0</td>\n",
       "      <td>Reclining chairs with arm rests that rise are ...</td>\n",
       "      <td>0</td>\n",
       "      <td>lZmfLRHJTCxxkq8wlKONlA</td>\n",
       "    </tr>\n",
       "  </tbody>\n",
       "</table>\n",
       "</div>"
      ],
      "text/plain": [
       "              business_id  cool                 date  funny  \\\n",
       "0  YSUcHqlKMPHHJ_cTrqtNrA     0  2017-12-29 13:55:19      0   \n",
       "1  faPVqws-x-5k2CQKDNtHxw     0  2018-08-04 20:22:15      0   \n",
       "2  Wxxvi3LZbHNIDwJ-ZimtnA     2  2011-07-28 09:06:59      4   \n",
       "3  XqJG7Ux_mMfMJnyG2Q4m2Q     0  2018-08-04 20:49:20      0   \n",
       "4  pJQSdbrtQQVstMUUIICSsA     0  2011-01-09 02:59:52      0   \n",
       "\n",
       "                review_id  stars  \\\n",
       "0  E6B-2U2sGG3xgmnNWZAEew    1.0   \n",
       "1  w1I8U4cJ4QGaXA98ImNrbA    5.0   \n",
       "2  Sft1a3j3Hst44CG9gbww0Q    1.0   \n",
       "3  sMh-VUwO64K-VvKEOtrZiw    5.0   \n",
       "4  1ue9DOGcYUPXU-NlJLLW7w    3.0   \n",
       "\n",
       "                                                text  useful  \\\n",
       "0  Came here on a Thursday night at 6:30 p.m. My ...       0   \n",
       "1  Service was amazing, Christina was extremely t...       0   \n",
       "2  I am so blown away by this sophisticated & bea...       8   \n",
       "3  What an incredible experience this was. There ...       0   \n",
       "4  Reclining chairs with arm rests that rise are ...       0   \n",
       "\n",
       "                  user_id  \n",
       "0  DbccYu3OppWKl21OanZnTg  \n",
       "1  rJNdeta-dYO2YcJ3u5JxnA  \n",
       "2  FBxhaS2bPmxwT3I8r3CmkQ  \n",
       "3  zsGH_1XyUxuP5O34WL6eLg  \n",
       "4  lZmfLRHJTCxxkq8wlKONlA  "
      ]
     },
     "execution_count": 33,
     "metadata": {},
     "output_type": "execute_result"
    }
   ],
   "source": [
    "# Check schema\n",
    "#business_df.printSchema()\n",
    "#business_df.toPandas().head(5)\n",
    "#checkin_df.printSchema()\n",
    "#checkin_df.toPandas()\n",
    "review_df.printSchema()\n",
    "#review_df.toPandas().head(5)\n",
    "\n",
    "\n",
    "#tip_df.printSchema()\n",
    "#tip_df.toPandas().head(5)\n",
    "#user_df.printSchema()\n",
    "#user_df.toPandas().head(5)\n",
    "\n",
    "#show the first row of df\n",
    "\n"
   ]
  },
  {
   "cell_type": "code",
   "execution_count": 80,
   "metadata": {},
   "outputs": [],
   "source": [
    "#add some features to the review dataset\n",
    "join_table = review_df.join(new_business, ['business_id'])\n",
    "join_table = join_table.join(business_date, ['business_id'])\n",
    "#join_table.toPandas().head(5)\n",
    "\n",
    "\n"
   ]
  },
  {
   "cell_type": "markdown",
   "metadata": {},
   "source": [
    "### Check number of NULL values per column"
   ]
  },
  {
   "cell_type": "code",
   "execution_count": 81,
   "metadata": {},
   "outputs": [
    {
     "name": "stdout",
     "output_type": "stream",
     "text": [
      "1 : 28922\n"
     ]
    }
   ],
   "source": [
    "#for col in join_table.columns:\n",
    "#    print(col, ':', join_table.filter(join_table[col].isNull()).count())\n",
    "print(1,\":\", join_table.filter(join_table['is_open']==1).count())"
   ]
  },
  {
   "cell_type": "markdown",
   "metadata": {},
   "source": [
    "### View data"
   ]
  },
  {
   "cell_type": "code",
   "execution_count": 82,
   "metadata": {},
   "outputs": [
    {
     "data": {
      "text/html": [
       "<div>\n",
       "<style scoped>\n",
       "    .dataframe tbody tr th:only-of-type {\n",
       "        vertical-align: middle;\n",
       "    }\n",
       "\n",
       "    .dataframe tbody tr th {\n",
       "        vertical-align: top;\n",
       "    }\n",
       "\n",
       "    .dataframe thead th {\n",
       "        text-align: right;\n",
       "    }\n",
       "</style>\n",
       "<table border=\"1\" class=\"dataframe\">\n",
       "  <thead>\n",
       "    <tr style=\"text-align: right;\">\n",
       "      <th></th>\n",
       "      <th>business_id</th>\n",
       "      <th>cool</th>\n",
       "      <th>date</th>\n",
       "      <th>funny</th>\n",
       "      <th>review_id</th>\n",
       "      <th>stars</th>\n",
       "      <th>text</th>\n",
       "      <th>useful</th>\n",
       "      <th>user_id</th>\n",
       "      <th>is_open</th>\n",
       "      <th>review_count</th>\n",
       "      <th>city</th>\n",
       "      <th>Mon</th>\n",
       "      <th>Tue</th>\n",
       "      <th>Wed</th>\n",
       "      <th>Thu</th>\n",
       "      <th>Fri</th>\n",
       "      <th>Sat</th>\n",
       "      <th>Sun</th>\n",
       "    </tr>\n",
       "  </thead>\n",
       "  <tbody>\n",
       "    <tr>\n",
       "      <th>0</th>\n",
       "      <td>--9e1ONYQuAa-CB_Rrw7Tw</td>\n",
       "      <td>0</td>\n",
       "      <td>2009-03-22 01:49:45</td>\n",
       "      <td>0</td>\n",
       "      <td>qx3Ba91UzIasxowH0f2x5Q</td>\n",
       "      <td>4.0</td>\n",
       "      <td>Besides having to finance your meal with a 20%...</td>\n",
       "      <td>0</td>\n",
       "      <td>be4K9MZmJTN6TSbpP1O3tw</td>\n",
       "      <td>1</td>\n",
       "      <td>1613</td>\n",
       "      <td>Las Vegas</td>\n",
       "      <td>5.0</td>\n",
       "      <td>5.0</td>\n",
       "      <td>5.0</td>\n",
       "      <td>5.0</td>\n",
       "      <td>5.5</td>\n",
       "      <td>5.5</td>\n",
       "      <td>5.0</td>\n",
       "    </tr>\n",
       "    <tr>\n",
       "      <th>1</th>\n",
       "      <td>--9e1ONYQuAa-CB_Rrw7Tw</td>\n",
       "      <td>2</td>\n",
       "      <td>2011-10-01 15:04:51</td>\n",
       "      <td>1</td>\n",
       "      <td>CSedaZsqWDBG8_tJ0NgTVw</td>\n",
       "      <td>5.0</td>\n",
       "      <td>The only thing that would make dining at Delmo...</td>\n",
       "      <td>2</td>\n",
       "      <td>kS1-hIOkQlUvfmPL2WyvTA</td>\n",
       "      <td>1</td>\n",
       "      <td>1613</td>\n",
       "      <td>Las Vegas</td>\n",
       "      <td>5.0</td>\n",
       "      <td>5.0</td>\n",
       "      <td>5.0</td>\n",
       "      <td>5.0</td>\n",
       "      <td>5.5</td>\n",
       "      <td>5.5</td>\n",
       "      <td>5.0</td>\n",
       "    </tr>\n",
       "    <tr>\n",
       "      <th>2</th>\n",
       "      <td>--9e1ONYQuAa-CB_Rrw7Tw</td>\n",
       "      <td>1</td>\n",
       "      <td>2009-03-31 14:43:27</td>\n",
       "      <td>1</td>\n",
       "      <td>Xx6obtR7ddCmsPMksKV0FA</td>\n",
       "      <td>5.0</td>\n",
       "      <td>I'd say it's probably the best steakhouse i ev...</td>\n",
       "      <td>1</td>\n",
       "      <td>Goeb2D2E99xss3tMrX--FQ</td>\n",
       "      <td>1</td>\n",
       "      <td>1613</td>\n",
       "      <td>Las Vegas</td>\n",
       "      <td>5.0</td>\n",
       "      <td>5.0</td>\n",
       "      <td>5.0</td>\n",
       "      <td>5.0</td>\n",
       "      <td>5.5</td>\n",
       "      <td>5.5</td>\n",
       "      <td>5.0</td>\n",
       "    </tr>\n",
       "    <tr>\n",
       "      <th>3</th>\n",
       "      <td>--9e1ONYQuAa-CB_Rrw7Tw</td>\n",
       "      <td>0</td>\n",
       "      <td>2011-12-10 13:53:28</td>\n",
       "      <td>0</td>\n",
       "      <td>sj_9jrJYdCHEDPKwCFVn9Q</td>\n",
       "      <td>5.0</td>\n",
       "      <td>One of the best meals.  The steaks are aged an...</td>\n",
       "      <td>0</td>\n",
       "      <td>Y7ozCwtq7sr16-DJw_ndDw</td>\n",
       "      <td>1</td>\n",
       "      <td>1613</td>\n",
       "      <td>Las Vegas</td>\n",
       "      <td>5.0</td>\n",
       "      <td>5.0</td>\n",
       "      <td>5.0</td>\n",
       "      <td>5.0</td>\n",
       "      <td>5.5</td>\n",
       "      <td>5.5</td>\n",
       "      <td>5.0</td>\n",
       "    </tr>\n",
       "    <tr>\n",
       "      <th>4</th>\n",
       "      <td>--9e1ONYQuAa-CB_Rrw7Tw</td>\n",
       "      <td>1</td>\n",
       "      <td>2012-07-05 03:49:38</td>\n",
       "      <td>0</td>\n",
       "      <td>kMffQjcePIsLul3y1dmf_w</td>\n",
       "      <td>5.0</td>\n",
       "      <td>I have been coming to this place for the last ...</td>\n",
       "      <td>2</td>\n",
       "      <td>m2n2KDQIyqPzn9wU5GjALA</td>\n",
       "      <td>1</td>\n",
       "      <td>1613</td>\n",
       "      <td>Las Vegas</td>\n",
       "      <td>5.0</td>\n",
       "      <td>5.0</td>\n",
       "      <td>5.0</td>\n",
       "      <td>5.0</td>\n",
       "      <td>5.5</td>\n",
       "      <td>5.5</td>\n",
       "      <td>5.0</td>\n",
       "    </tr>\n",
       "  </tbody>\n",
       "</table>\n",
       "</div>"
      ],
      "text/plain": [
       "              business_id  cool                 date  funny  \\\n",
       "0  --9e1ONYQuAa-CB_Rrw7Tw     0  2009-03-22 01:49:45      0   \n",
       "1  --9e1ONYQuAa-CB_Rrw7Tw     2  2011-10-01 15:04:51      1   \n",
       "2  --9e1ONYQuAa-CB_Rrw7Tw     1  2009-03-31 14:43:27      1   \n",
       "3  --9e1ONYQuAa-CB_Rrw7Tw     0  2011-12-10 13:53:28      0   \n",
       "4  --9e1ONYQuAa-CB_Rrw7Tw     1  2012-07-05 03:49:38      0   \n",
       "\n",
       "                review_id  stars  \\\n",
       "0  qx3Ba91UzIasxowH0f2x5Q    4.0   \n",
       "1  CSedaZsqWDBG8_tJ0NgTVw    5.0   \n",
       "2  Xx6obtR7ddCmsPMksKV0FA    5.0   \n",
       "3  sj_9jrJYdCHEDPKwCFVn9Q    5.0   \n",
       "4  kMffQjcePIsLul3y1dmf_w    5.0   \n",
       "\n",
       "                                                text  useful  \\\n",
       "0  Besides having to finance your meal with a 20%...       0   \n",
       "1  The only thing that would make dining at Delmo...       2   \n",
       "2  I'd say it's probably the best steakhouse i ev...       1   \n",
       "3  One of the best meals.  The steaks are aged an...       0   \n",
       "4  I have been coming to this place for the last ...       2   \n",
       "\n",
       "                  user_id  is_open  review_count       city  Mon  Tue  Wed  \\\n",
       "0  be4K9MZmJTN6TSbpP1O3tw        1          1613  Las Vegas  5.0  5.0  5.0   \n",
       "1  kS1-hIOkQlUvfmPL2WyvTA        1          1613  Las Vegas  5.0  5.0  5.0   \n",
       "2  Goeb2D2E99xss3tMrX--FQ        1          1613  Las Vegas  5.0  5.0  5.0   \n",
       "3  Y7ozCwtq7sr16-DJw_ndDw        1          1613  Las Vegas  5.0  5.0  5.0   \n",
       "4  m2n2KDQIyqPzn9wU5GjALA        1          1613  Las Vegas  5.0  5.0  5.0   \n",
       "\n",
       "   Thu  Fri  Sat  Sun  \n",
       "0  5.0  5.5  5.5  5.0  \n",
       "1  5.0  5.5  5.5  5.0  \n",
       "2  5.0  5.5  5.5  5.0  \n",
       "3  5.0  5.5  5.5  5.0  \n",
       "4  5.0  5.5  5.5  5.0  "
      ]
     },
     "execution_count": 82,
     "metadata": {},
     "output_type": "execute_result"
    }
   ],
   "source": [
    "join_table.toPandas().head(5)\n",
    "#join_table.count()"
   ]
  },
  {
   "cell_type": "markdown",
   "metadata": {},
   "source": [
    "## First, Try to predict whether the merchant is open"
   ]
  },
  {
   "cell_type": "markdown",
   "metadata": {},
   "source": [
    "### Don't use text column for the first time"
   ]
  },
  {
   "cell_type": "markdown",
   "metadata": {},
   "source": [
    "### Buile a logistic regression model"
   ]
  },
  {
   "cell_type": "code",
   "execution_count": 93,
   "metadata": {},
   "outputs": [],
   "source": [
    "\n",
    "X = join_table.select('cool', 'funny', 'stars','useful','review_count','Mon','Tue','Wed','Thu','Fri','Sat','Sun').toPandas()\n",
    "y = join_table.select('is_open').toPandas()\n"
   ]
  },
  {
   "cell_type": "code",
   "execution_count": 96,
   "metadata": {},
   "outputs": [],
   "source": [
    "#use smote to oversample the minority group\n",
    "os = SMOTE(random_state =0)\n",
    "X_train, X_test, y_train, y_test = train_test_split(X, y, test_size=0.3, random_state=0)\n",
    "columns = X_train.columns\n",
    "os_data_X, os_data_y=os.fit_sample(X_train, y_train)\n",
    "os_data_X = pd.DataFrame(data=os_data_X, columns=columns )\n"
   ]
  },
  {
   "cell_type": "code",
   "execution_count": 97,
   "metadata": {},
   "outputs": [],
   "source": [
    "#name is_opan as 'y'\n",
    "os_data_y= pd.DataFrame(data=os_data_y, columns=['y'])\n",
    "X=os_data_X\n",
    "y=os_data_y['y']\n",
    "\n"
   ]
  },
  {
   "cell_type": "code",
   "execution_count": 98,
   "metadata": {},
   "outputs": [
    {
     "name": "stdout",
     "output_type": "stream",
     "text": [
      "Optimization terminated successfully.\n",
      "         Current function value: 0.692231\n",
      "         Iterations 4\n",
      "Accuracy of logistic regression classifier on test set: 0.50\n"
     ]
    },
    {
     "name": "stderr",
     "output_type": "stream",
     "text": [
      "//anaconda3/lib/python3.7/site-packages/sklearn/linear_model/logistic.py:432: FutureWarning: Default solver will be changed to 'lbfgs' in 0.22. Specify a solver to silence this warning.\n",
      "  FutureWarning)\n"
     ]
    }
   ],
   "source": [
    "#implement the model\n",
    "logit_model=sm.Logit(y,X)\n",
    "result=logit_model.fit()\n",
    "\n",
    "X_train, X_test, y_train, y_test = train_test_split(X, y, test_size=0.3, random_state=0)\n",
    "logreg = LogisticRegression()\n",
    "logreg.fit(X_train, y_train)\n",
    "\n",
    "y_pred = logreg.predict(X_test)\n",
    "print('Accuracy of logistic regression classifier on test set: {:.2f}'.format(logreg.score(X_test, y_test)))\n",
    "\n"
   ]
  },
  {
   "cell_type": "code",
   "execution_count": 99,
   "metadata": {},
   "outputs": [
    {
     "name": "stdout",
     "output_type": "stream",
     "text": [
      "[[2240 2065]\n",
      " [2166 2063]]\n"
     ]
    }
   ],
   "source": [
    "from sklearn.metrics import confusion_matrix\n",
    "confusion_matrix = confusion_matrix(y_test, y_pred)\n",
    "print(confusion_matrix)\n",
    "\n",
    "\n",
    "\n"
   ]
  },
  {
   "cell_type": "markdown",
   "metadata": {},
   "source": [
    "### Build logistic regression model for later predictions"
   ]
  },
  {
   "cell_type": "code",
   "execution_count": 83,
   "metadata": {},
   "outputs": [
    {
     "name": "stdout",
     "output_type": "stream",
     "text": [
      "              precision    recall  f1-score   support\n",
      "\n",
      "           0       0.59      0.58      0.58      6116\n",
      "           1       0.58      0.59      0.59      6046\n",
      "\n",
      "    accuracy                           0.59     12162\n",
      "   macro avg       0.59      0.59      0.59     12162\n",
      "weighted avg       0.59      0.59      0.59     12162\n",
      "\n"
     ]
    }
   ],
   "source": [
    "# confusion matrix\n",
    "from sklearn.metrics import classification_report\n",
    "print(classification_report(y_test, y_pred))\n"
   ]
  },
  {
   "cell_type": "code",
   "execution_count": 84,
   "metadata": {},
   "outputs": [
    {
     "data": {
      "image/png": "[encoded data removed]",
      "text/plain": [
       "<Figure size 432x288 with 1 Axes>"
      ]
     },
     "metadata": {
      "needs_background": "light"
     },
     "output_type": "display_data"
    }
   ],
   "source": [
    "# ROC curve\n",
    "from sklearn.metrics import roc_auc_score\n",
    "from sklearn.metrics import roc_curve\n",
    "import matplotlib.pyplot as plt\n",
    "logit_roc_auc = roc_auc_score(y_test, logreg.predict(X_test))\n",
    "fpr, tpr, thresholds = roc_curve(y_test, logreg.predict_proba(X_test)[:,1])\n",
    "plt.figure()\n",
    "plt.plot(fpr, tpr, label='Logistic Regression (area = %0.2f)' % logit_roc_auc)\n",
    "plt.plot([0, 1], [0, 1],'r--')\n",
    "plt.xlim([0.0, 1.0])\n",
    "plt.ylim([0.0, 1.05])\n",
    "plt.xlabel('False Positive Rate')\n",
    "plt.ylabel('True Positive Rate')\n",
    "plt.title('Receiver operating characteristic')\n",
    "plt.legend(loc=\"lower right\")\n",
    "plt.savefig('Log_ROC')\n",
    "plt.show()"
   ]
  },
  {
   "cell_type": "markdown",
   "metadata": {},
   "source": [
    "Second, run another logistic regression model to predict stars level"
   ]
  },
  {
   "cell_type": "code",
   "execution_count": 141,
   "metadata": {},
   "outputs": [
    {
     "name": "stdout",
     "output_type": "stream",
     "text": [
      "root\n",
      " |-- cool: long (nullable = true)\n",
      " |-- funny: long (nullable = true)\n",
      " |-- is_open: long (nullable = true)\n",
      " |-- useful: long (nullable = true)\n",
      " |-- review_count: long (nullable = true)\n",
      " |-- Mon: double (nullable = true)\n",
      " |-- Tue: double (nullable = true)\n",
      " |-- Wed: double (nullable = true)\n",
      " |-- Thu: double (nullable = true)\n",
      " |-- Fri: double (nullable = true)\n",
      " |-- Sat: double (nullable = true)\n",
      " |-- Sun: double (nullable = true)\n",
      " |-- stars: double (nullable = true)\n",
      "\n"
     ]
    }
   ],
   "source": [
    "yelp_df = join_table.select('cool', 'funny', 'is_open','useful','review_count','Mon','Tue','Wed','Thu','Fri','Sat','Sun','stars')\n",
    "#yelp_df.show(5)\n",
    "from pyspark.sql.functions import col\n",
    "from pyspark.sql.types import DoubleType\n",
    "yelp_df = yelp_df.withColumn(\"Mon\", col(\"Mon\").cast(DoubleType()))\n",
    "yelp_df = yelp_df.withColumn(\"Tue\", col(\"Tue\").cast(DoubleType()))\n",
    "yelp_df = yelp_df.withColumn(\"Wed\", col(\"Wed\").cast(DoubleType()))\n",
    "yelp_df = yelp_df.withColumn(\"Thu\", col(\"Thu\").cast(DoubleType()))\n",
    "yelp_df = yelp_df.withColumn(\"Fri\", col(\"Fri\").cast(DoubleType()))\n",
    "yelp_df = yelp_df.withColumn(\"Sat\", col(\"Sat\").cast(DoubleType()))\n",
    "yelp_df = yelp_df.withColumn(\"Sun\", col(\"Sun\").cast(DoubleType()))\n",
    "yelp_df.printSchema()"
   ]
  },
  {
   "cell_type": "code",
   "execution_count": 142,
   "metadata": {},
   "outputs": [],
   "source": [
    "from pyspark.sql import functions as fn\n",
    "from pyspark.sql.types import DecimalType\n",
    "yelp_df = yelp_df.withColumn(\"stars\", fn.when(fn.col('stars')>3,1).otherwise(0))\n",
    "\n",
    "\n"
   ]
  },
  {
   "cell_type": "code",
   "execution_count": 125,
   "metadata": {},
   "outputs": [],
   "source": [
    "log_model = Pipeline(stages=[feature.VectorAssembler(inputCols = ['cool', 'funny', 'is_open','useful','review_count','Mon','Tue','Wed','Thu','Fri','Sat','Sun'],\n",
    "                                                    outputCol='features'),\n",
    "                            classification.LogisticRegression(labelCol = 'stars', featuresCol = 'features')])"
   ]
  },
  {
   "cell_type": "code",
   "execution_count": null,
   "metadata": {},
   "outputs": [],
   "source": [
    "#split df into training and test dataframe"
   ]
  },
  {
   "cell_type": "code",
   "execution_count": 127,
   "metadata": {},
   "outputs": [],
   "source": [
    "training,test = yelp_df.randomSplit([0.8,0.2],0)"
   ]
  },
  {
   "cell_type": "code",
   "execution_count": 128,
   "metadata": {},
   "outputs": [],
   "source": [
    "log_model_fit = log_model.fit(training)"
   ]
  },
  {
   "cell_type": "code",
   "execution_count": 129,
   "metadata": {},
   "outputs": [
    {
     "data": {
      "text/html": [
       "<div>\n",
       "<style scoped>\n",
       "    .dataframe tbody tr th:only-of-type {\n",
       "        vertical-align: middle;\n",
       "    }\n",
       "\n",
       "    .dataframe tbody tr th {\n",
       "        vertical-align: top;\n",
       "    }\n",
       "\n",
       "    .dataframe thead th {\n",
       "        text-align: right;\n",
       "    }\n",
       "</style>\n",
       "<table border=\"1\" class=\"dataframe\">\n",
       "  <thead>\n",
       "    <tr style=\"text-align: right;\">\n",
       "      <th></th>\n",
       "      <th>cool</th>\n",
       "      <th>funny</th>\n",
       "      <th>is_open</th>\n",
       "      <th>useful</th>\n",
       "      <th>review_count</th>\n",
       "      <th>Mon</th>\n",
       "      <th>Tue</th>\n",
       "      <th>Wed</th>\n",
       "      <th>Thu</th>\n",
       "      <th>Fri</th>\n",
       "      <th>Sat</th>\n",
       "      <th>Sun</th>\n",
       "      <th>stars</th>\n",
       "      <th>features</th>\n",
       "      <th>rawPrediction</th>\n",
       "      <th>probability</th>\n",
       "      <th>prediction</th>\n",
       "    </tr>\n",
       "  </thead>\n",
       "  <tbody>\n",
       "    <tr>\n",
       "      <th>0</th>\n",
       "      <td>0</td>\n",
       "      <td>0</td>\n",
       "      <td>0</td>\n",
       "      <td>0</td>\n",
       "      <td>17</td>\n",
       "      <td>9.0</td>\n",
       "      <td>9.0</td>\n",
       "      <td>9.0</td>\n",
       "      <td>9.0</td>\n",
       "      <td>9.0</td>\n",
       "      <td>9.0</td>\n",
       "      <td>0.0</td>\n",
       "      <td>0</td>\n",
       "      <td>[0.0, 0.0, 0.0, 0.0, 17.0, 9.0, 9.0, 9.0, 9.0,...</td>\n",
       "      <td>[0.06959327020875195, -0.06959327020875195]</td>\n",
       "      <td>[0.5173912989567454, 0.4826087010432546]</td>\n",
       "      <td>0.0</td>\n",
       "    </tr>\n",
       "    <tr>\n",
       "      <th>1</th>\n",
       "      <td>0</td>\n",
       "      <td>0</td>\n",
       "      <td>0</td>\n",
       "      <td>0</td>\n",
       "      <td>64</td>\n",
       "      <td>12.0</td>\n",
       "      <td>12.0</td>\n",
       "      <td>12.0</td>\n",
       "      <td>12.0</td>\n",
       "      <td>12.0</td>\n",
       "      <td>12.0</td>\n",
       "      <td>12.0</td>\n",
       "      <td>0</td>\n",
       "      <td>[0.0, 0.0, 0.0, 0.0, 64.0, 12.0, 12.0, 12.0, 1...</td>\n",
       "      <td>[0.6761002116389888, -0.6761002116389888]</td>\n",
       "      <td>[0.66286775001159, 0.33713224998841]</td>\n",
       "      <td>0.0</td>\n",
       "    </tr>\n",
       "    <tr>\n",
       "      <th>2</th>\n",
       "      <td>0</td>\n",
       "      <td>0</td>\n",
       "      <td>0</td>\n",
       "      <td>0</td>\n",
       "      <td>173</td>\n",
       "      <td>0.0</td>\n",
       "      <td>5.5</td>\n",
       "      <td>5.5</td>\n",
       "      <td>5.5</td>\n",
       "      <td>5.5</td>\n",
       "      <td>10.0</td>\n",
       "      <td>9.5</td>\n",
       "      <td>1</td>\n",
       "      <td>[0.0, 0.0, 0.0, 0.0, 173.0, 0.0, 5.5, 5.5, 5.5...</td>\n",
       "      <td>[0.74180366594396, -0.74180366594396]</td>\n",
       "      <td>[0.6773901423405683, 0.32260985765943173]</td>\n",
       "      <td>0.0</td>\n",
       "    </tr>\n",
       "    <tr>\n",
       "      <th>3</th>\n",
       "      <td>0</td>\n",
       "      <td>0</td>\n",
       "      <td>1</td>\n",
       "      <td>0</td>\n",
       "      <td>41</td>\n",
       "      <td>0.0</td>\n",
       "      <td>10.0</td>\n",
       "      <td>10.0</td>\n",
       "      <td>10.0</td>\n",
       "      <td>8.0</td>\n",
       "      <td>8.0</td>\n",
       "      <td>0.0</td>\n",
       "      <td>1</td>\n",
       "      <td>[0.0, 0.0, 1.0, 0.0, 41.0, 0.0, 10.0, 10.0, 10...</td>\n",
       "      <td>[-0.8123861871097461, 0.8123861871097461]</td>\n",
       "      <td>[0.3073822469164279, 0.6926177530835722]</td>\n",
       "      <td>1.0</td>\n",
       "    </tr>\n",
       "    <tr>\n",
       "      <th>4</th>\n",
       "      <td>0</td>\n",
       "      <td>0</td>\n",
       "      <td>1</td>\n",
       "      <td>0</td>\n",
       "      <td>44</td>\n",
       "      <td>8.0</td>\n",
       "      <td>8.0</td>\n",
       "      <td>8.0</td>\n",
       "      <td>8.0</td>\n",
       "      <td>9.0</td>\n",
       "      <td>9.0</td>\n",
       "      <td>8.0</td>\n",
       "      <td>1</td>\n",
       "      <td>[0.0, 0.0, 1.0, 0.0, 44.0, 8.0, 8.0, 8.0, 8.0,...</td>\n",
       "      <td>[0.28814922584448244, -0.28814922584448244]</td>\n",
       "      <td>[0.5715429725216422, 0.42845702747835784]</td>\n",
       "      <td>0.0</td>\n",
       "    </tr>\n",
       "  </tbody>\n",
       "</table>\n",
       "</div>"
      ],
      "text/plain": [
       "   cool  funny  is_open  useful  review_count   Mon   Tue   Wed   Thu   Fri  \\\n",
       "0     0      0        0       0            17   9.0   9.0   9.0   9.0   9.0   \n",
       "1     0      0        0       0            64  12.0  12.0  12.0  12.0  12.0   \n",
       "2     0      0        0       0           173   0.0   5.5   5.5   5.5   5.5   \n",
       "3     0      0        1       0            41   0.0  10.0  10.0  10.0   8.0   \n",
       "4     0      0        1       0            44   8.0   8.0   8.0   8.0   9.0   \n",
       "\n",
       "    Sat   Sun  stars                                           features  \\\n",
       "0   9.0   0.0      0  [0.0, 0.0, 0.0, 0.0, 17.0, 9.0, 9.0, 9.0, 9.0,...   \n",
       "1  12.0  12.0      0  [0.0, 0.0, 0.0, 0.0, 64.0, 12.0, 12.0, 12.0, 1...   \n",
       "2  10.0   9.5      1  [0.0, 0.0, 0.0, 0.0, 173.0, 0.0, 5.5, 5.5, 5.5...   \n",
       "3   8.0   0.0      1  [0.0, 0.0, 1.0, 0.0, 41.0, 0.0, 10.0, 10.0, 10...   \n",
       "4   9.0   8.0      1  [0.0, 0.0, 1.0, 0.0, 44.0, 8.0, 8.0, 8.0, 8.0,...   \n",
       "\n",
       "                                 rawPrediction  \\\n",
       "0  [0.06959327020875195, -0.06959327020875195]   \n",
       "1    [0.6761002116389888, -0.6761002116389888]   \n",
       "2        [0.74180366594396, -0.74180366594396]   \n",
       "3    [-0.8123861871097461, 0.8123861871097461]   \n",
       "4  [0.28814922584448244, -0.28814922584448244]   \n",
       "\n",
       "                                 probability  prediction  \n",
       "0   [0.5173912989567454, 0.4826087010432546]         0.0  \n",
       "1       [0.66286775001159, 0.33713224998841]         0.0  \n",
       "2  [0.6773901423405683, 0.32260985765943173]         0.0  \n",
       "3   [0.3073822469164279, 0.6926177530835722]         1.0  \n",
       "4  [0.5715429725216422, 0.42845702747835784]         0.0  "
      ]
     },
     "execution_count": 129,
     "metadata": {},
     "output_type": "execute_result"
    }
   ],
   "source": [
    "log_model_fit.transform(test).toPandas().head()"
   ]
  },
  {
   "cell_type": "code",
   "execution_count": 130,
   "metadata": {},
   "outputs": [
    {
     "name": "stdout",
     "output_type": "stream",
     "text": [
      "+--------------------------------------+\n",
      "|avg(CAST((prediction = 1.0) AS FLOAT))|\n",
      "+--------------------------------------+\n",
      "|                    0.2599700149925038|\n",
      "+--------------------------------------+\n",
      "\n"
     ]
    }
   ],
   "source": [
    "#calculate the predicted percert 1\n",
    "log_model_fit.transform(test).select(fn.avg(fn.expr('prediction = 1.0').cast('float'))).show()"
   ]
  },
  {
   "cell_type": "code",
   "execution_count": 131,
   "metadata": {},
   "outputs": [
    {
     "name": "stdout",
     "output_type": "stream",
     "text": [
      "+---------------------------------+\n",
      "|avg(CAST((stars = 1.0) AS FLOAT))|\n",
      "+---------------------------------+\n",
      "|                0.438707929435848|\n",
      "+---------------------------------+\n",
      "\n"
     ]
    }
   ],
   "source": [
    "#calculates the percent 1 in the orginal dataframe\n",
    "yelp_df.select(fn.avg(fn.expr('stars = 1.0').cast('float'))).show()"
   ]
  },
  {
   "cell_type": "code",
   "execution_count": 139,
   "metadata": {},
   "outputs": [
    {
     "data": {
      "text/plain": [
       "DenseVector([0.3468, -0.2582, 0.3609, -0.1695, 0.0, -0.0422, 0.018, 0.0239, 0.0748, 0.0044, -0.0288, -0.0631])"
      ]
     },
     "execution_count": 139,
     "metadata": {},
     "output_type": "execute_result"
    }
   ],
   "source": [
    "log_model_fit.stages[-1].coefficients"
   ]
  },
  {
   "cell_type": "markdown",
   "metadata": {},
   "source": [
    "this is the same logistic regression model without using pyspark"
   ]
  },
  {
   "cell_type": "code",
   "execution_count": 143,
   "metadata": {},
   "outputs": [],
   "source": [
    "#os = SMOTE(random_state =0)\n",
    "#X_train, X_test, y_train, y_test = train_test_split(X_2, y_2, test_size=0.3, random_state=0)\n",
    "#columns = X_train.columns\n",
    "#os_data_X, os_data_y=os.fit_sample(X_train, y_train)\n",
    "#os_data_X = pd.DataFrame(data=os_data_X, columns=columns )\n",
    "X_2 = yelp_df.select('cool', 'funny','is_open', 'useful','review_count','Mon','Tue','Wed','Thu','Fri','Sat','Sun').toPandas()\n",
    "y_2 = yelp_df.select('stars').toPandas()\n",
    "\n"
   ]
  },
  {
   "cell_type": "code",
   "execution_count": 135,
   "metadata": {},
   "outputs": [],
   "source": [
    "#name stars as 'y'\n",
    "#os_data_y= pd.DataFrame(data=os_data_y, columns=['y'])\n",
    "#X=os_data_X\n",
    "#y=os_data_y['y']\n",
    "#data_y= pd.DataFrame(data=y_train, columns=['y'])\n",
    "#data_X = pd.DataFrame(data=X_train, columns=columns )\n",
    "#X=data_X\n",
    "#y=data_y['y']\n",
    "\n",
    "\n",
    "\n"
   ]
  },
  {
   "cell_type": "code",
   "execution_count": 144,
   "metadata": {},
   "outputs": [
    {
     "name": "stdout",
     "output_type": "stream",
     "text": [
      "Optimization terminated successfully.\n",
      "         Current function value: 0.647541\n",
      "         Iterations 5\n",
      "Accuracy of logistic regression classifier on test set: 0.65\n"
     ]
    },
    {
     "name": "stderr",
     "output_type": "stream",
     "text": [
      "//anaconda3/lib/python3.7/site-packages/sklearn/linear_model/logistic.py:432: FutureWarning: Default solver will be changed to 'lbfgs' in 0.22. Specify a solver to silence this warning.\n",
      "  FutureWarning)\n",
      "//anaconda3/lib/python3.7/site-packages/sklearn/utils/validation.py:724: DataConversionWarning: A column-vector y was passed when a 1d array was expected. Please change the shape of y to (n_samples, ), for example using ravel().\n",
      "  y = column_or_1d(y, warn=True)\n"
     ]
    }
   ],
   "source": [
    "#implement the model\n",
    "logit_model=sm.Logit(y_2,X_2)\n",
    "result=logit_model.fit()\n",
    "\n",
    "X_train, X_test, y_train, y_test = train_test_split(X_2, y_2, test_size=0.3, random_state=0)\n",
    "logreg = LogisticRegression()\n",
    "logreg.fit(X_train, y_train)\n",
    "\n",
    "y_pred = logreg.predict(X_test)\n",
    "print('Accuracy of logistic regression classifier on test set: {:.2f}'.format(logreg.score(X_test, y_test)))\n"
   ]
  },
  {
   "cell_type": "code",
   "execution_count": 145,
   "metadata": {},
   "outputs": [
    {
     "data": {
      "image/png": "[encoded data removed]",
      "text/plain": [
       "<Figure size 432x288 with 1 Axes>"
      ]
     },
     "metadata": {
      "needs_background": "light"
     },
     "output_type": "display_data"
    }
   ],
   "source": [
    "from sklearn.metrics import roc_auc_score\n",
    "from sklearn.metrics import roc_curve\n",
    "import matplotlib.pyplot as plt\n",
    "logit_roc_auc = roc_auc_score(y_test, logreg.predict(X_test))\n",
    "fpr, tpr, thresholds = roc_curve(y_test, logreg.predict_proba(X_test)[:,1])\n",
    "plt.figure()\n",
    "plt.plot(fpr, tpr, label='Logistic Regression (area = %0.2f)' % logit_roc_auc)\n",
    "plt.plot([0, 1], [0, 1],'r--')\n",
    "plt.xlim([0.0, 1.0])\n",
    "plt.ylim([0.0, 1.05])\n",
    "plt.xlabel('False Positive Rate')\n",
    "plt.ylabel('True Positive Rate')\n",
    "plt.title('Receiver operating characteristic')\n",
    "plt.legend(loc=\"lower right\")\n",
    "plt.savefig('Log_ROC')\n",
    "plt.show()\n"
   ]
  },
  {
   "cell_type": "markdown",
   "metadata": {},
   "source": [
    "# Using text columns"
   ]
  },
  {
   "cell_type": "code",
   "execution_count": null,
   "metadata": {},
   "outputs": [],
   "source": []
  }
 ],
 "metadata": {
  "kernelspec": {
   "display_name": "Python 3",
   "language": "python",
   "name": "python3"
  },
  "language_info": {
   "codemirror_mode": {
    "name": "ipython",
    "version": 3
   },
   "file_extension": ".py",
   "mimetype": "text/x-python",
   "name": "python",
   "nbconvert_exporter": "python",
   "pygments_lexer": "ipython3",
   "version": "3.7.3"
  }
 },
 "nbformat": 4,
 "nbformat_minor": 4
}
